{
 "cells": [
  {
   "cell_type": "code",
   "execution_count": 1,
   "id": "a5af12a0",
   "metadata": {},
   "outputs": [],
   "source": [
    "import math"
   ]
  },
  {
   "cell_type": "code",
   "execution_count": 2,
   "id": "fff08837",
   "metadata": {},
   "outputs": [
    {
     "name": "stdout",
     "output_type": "stream",
     "text": [
      "['__doc__', '__loader__', '__name__', '__package__', '__spec__', 'acos', 'acosh', 'asin', 'asinh', 'atan', 'atan2', 'atanh', 'ceil', 'comb', 'copysign', 'cos', 'cosh', 'degrees', 'dist', 'e', 'erf', 'erfc', 'exp', 'expm1', 'fabs', 'factorial', 'floor', 'fmod', 'frexp', 'fsum', 'gamma', 'gcd', 'hypot', 'inf', 'isclose', 'isfinite', 'isinf', 'isnan', 'isqrt', 'lcm', 'ldexp', 'lgamma', 'log', 'log10', 'log1p', 'log2', 'modf', 'nan', 'nextafter', 'perm', 'pi', 'pow', 'prod', 'radians', 'remainder', 'sin', 'sinh', 'sqrt', 'tan', 'tanh', 'tau', 'trunc', 'ulp']\n"
     ]
    }
   ],
   "source": [
    "print(dir(math))"
   ]
  },
  {
   "cell_type": "code",
   "execution_count": 3,
   "id": "95fe87a7",
   "metadata": {},
   "outputs": [],
   "source": [
    "import numpy"
   ]
  },
  {
   "cell_type": "code",
   "execution_count": 4,
   "id": "b4e5cd24",
   "metadata": {},
   "outputs": [],
   "source": [
    "import pandas"
   ]
  },
  {
   "cell_type": "code",
   "execution_count": 5,
   "id": "b7088ed7",
   "metadata": {},
   "outputs": [
    {
     "data": {
      "text/plain": [
       "9.0"
      ]
     },
     "execution_count": 5,
     "metadata": {},
     "output_type": "execute_result"
    }
   ],
   "source": [
    "math.sqrt(81)"
   ]
  },
  {
   "cell_type": "code",
   "execution_count": 6,
   "id": "ddf89831",
   "metadata": {},
   "outputs": [],
   "source": [
    "from math import sqrt"
   ]
  },
  {
   "cell_type": "code",
   "execution_count": 7,
   "id": "2af2e894",
   "metadata": {},
   "outputs": [
    {
     "data": {
      "text/plain": [
       "10.954451150103322"
      ]
     },
     "execution_count": 7,
     "metadata": {},
     "output_type": "execute_result"
    }
   ],
   "source": [
    "sqrt(120)"
   ]
  },
  {
   "cell_type": "code",
   "execution_count": 8,
   "id": "31a51afa",
   "metadata": {},
   "outputs": [
    {
     "data": {
      "text/plain": [
       "16.0"
      ]
     },
     "execution_count": 8,
     "metadata": {},
     "output_type": "execute_result"
    }
   ],
   "source": [
    "sqrt(256)"
   ]
  },
  {
   "cell_type": "code",
   "execution_count": 9,
   "id": "ae6c6b66",
   "metadata": {},
   "outputs": [
    {
     "data": {
      "text/plain": [
       "29.949958263743873"
      ]
     },
     "execution_count": 9,
     "metadata": {},
     "output_type": "execute_result"
    }
   ],
   "source": [
    "sqrt(897)"
   ]
  },
  {
   "cell_type": "code",
   "execution_count": 10,
   "id": "9ccfc1a6",
   "metadata": {},
   "outputs": [],
   "source": [
    "from math import isqrt"
   ]
  },
  {
   "cell_type": "code",
   "execution_count": 11,
   "id": "72f468d3",
   "metadata": {},
   "outputs": [
    {
     "data": {
      "text/plain": [
       "-0.9880316240928618"
      ]
     },
     "execution_count": 11,
     "metadata": {},
     "output_type": "execute_result"
    }
   ],
   "source": [
    "math.sin(30)"
   ]
  },
  {
   "cell_type": "markdown",
   "id": "eab248b0",
   "metadata": {},
   "source": []
  },
  {
   "cell_type": "code",
   "execution_count": 12,
   "id": "7b716b43",
   "metadata": {},
   "outputs": [
    {
     "data": {
      "text/plain": [
       "0.8939966636005579"
      ]
     },
     "execution_count": 12,
     "metadata": {},
     "output_type": "execute_result"
    }
   ],
   "source": [
    "math.sin(90)"
   ]
  },
  {
   "cell_type": "code",
   "execution_count": 13,
   "id": "3ae27f63",
   "metadata": {},
   "outputs": [
    {
     "data": {
      "text/plain": [
       "0.8623188722876839"
      ]
     },
     "execution_count": 13,
     "metadata": {},
     "output_type": "execute_result"
    }
   ],
   "source": [
    "math.cos(100)"
   ]
  },
  {
   "cell_type": "code",
   "execution_count": 14,
   "id": "30362ac3",
   "metadata": {},
   "outputs": [
    {
     "data": {
      "text/plain": [
       "-0.5872139151569291"
      ]
     },
     "execution_count": 14,
     "metadata": {},
     "output_type": "execute_result"
    }
   ],
   "source": [
    "math.tan(100)"
   ]
  },
  {
   "cell_type": "code",
   "execution_count": 15,
   "id": "8fe1dda6",
   "metadata": {},
   "outputs": [
    {
     "data": {
      "text/plain": [
       "2.302585092994046"
      ]
     },
     "execution_count": 15,
     "metadata": {},
     "output_type": "execute_result"
    }
   ],
   "source": [
    "math.log(10)"
   ]
  },
  {
   "cell_type": "code",
   "execution_count": 16,
   "id": "e2462b90",
   "metadata": {},
   "outputs": [
    {
     "data": {
      "text/plain": [
       "2.4849066497880004"
      ]
     },
     "execution_count": 16,
     "metadata": {},
     "output_type": "execute_result"
    }
   ],
   "source": [
    "math.log(12)"
   ]
  },
  {
   "cell_type": "code",
   "execution_count": 17,
   "id": "f4f5e55d",
   "metadata": {},
   "outputs": [
    {
     "data": {
      "text/plain": [
       "2.1972245773362196"
      ]
     },
     "execution_count": 17,
     "metadata": {},
     "output_type": "execute_result"
    }
   ],
   "source": [
    "math.log(9)"
   ]
  },
  {
   "cell_type": "code",
   "execution_count": 18,
   "id": "4f2ace34",
   "metadata": {},
   "outputs": [
    {
     "data": {
      "text/plain": [
       "2.0794415416798357"
      ]
     },
     "execution_count": 18,
     "metadata": {},
     "output_type": "execute_result"
    }
   ],
   "source": [
    "math.log(8)"
   ]
  },
  {
   "cell_type": "code",
   "execution_count": 19,
   "id": "aa2a07fa",
   "metadata": {},
   "outputs": [
    {
     "data": {
      "text/plain": [
       "1.9459101490553132"
      ]
     },
     "execution_count": 19,
     "metadata": {},
     "output_type": "execute_result"
    }
   ],
   "source": [
    "math.log(7)"
   ]
  },
  {
   "cell_type": "code",
   "execution_count": 20,
   "id": "0e196605",
   "metadata": {},
   "outputs": [
    {
     "data": {
      "text/plain": [
       "1.0"
      ]
     },
     "execution_count": 20,
     "metadata": {},
     "output_type": "execute_result"
    }
   ],
   "source": [
    "math.log10(10)"
   ]
  },
  {
   "cell_type": "code",
   "execution_count": 21,
   "id": "1919a601",
   "metadata": {},
   "outputs": [
    {
     "data": {
      "text/plain": [
       "0.9030899869919435"
      ]
     },
     "execution_count": 21,
     "metadata": {},
     "output_type": "execute_result"
    }
   ],
   "source": [
    "math.log10(8)"
   ]
  },
  {
   "cell_type": "code",
   "execution_count": 22,
   "id": "70332b20",
   "metadata": {},
   "outputs": [
    {
     "name": "stdout",
     "output_type": "stream",
     "text": [
      "What is your nameNalini\n",
      "user entered: Nalini\n"
     ]
    }
   ],
   "source": [
    "name= input ('What is your name')\n",
    "print ('user entered:',name)\n",
    "    \n"
   ]
  },
  {
   "cell_type": "code",
   "execution_count": 23,
   "id": "1635f14e",
   "metadata": {},
   "outputs": [
    {
     "name": "stdout",
     "output_type": "stream",
     "text": [
      "What is your age35\n",
      "Your age is : 35\n"
     ]
    }
   ],
   "source": [
    "age = input ('What is your age')\n",
    "print ('Your age is :', age)"
   ]
  },
  {
   "cell_type": "code",
   "execution_count": 24,
   "id": "0c09aa35",
   "metadata": {},
   "outputs": [
    {
     "name": "stdout",
     "output_type": "stream",
     "text": [
      "What is your Namenalini\n",
      "It was nice talking to Mr./Ms. nalini\n"
     ]
    }
   ],
   "source": [
    "name = input ('What is your Name')\n",
    "\n",
    "print ('It was nice talking to '+ 'Mr./Ms. '+ name)\n"
   ]
  },
  {
   "cell_type": "code",
   "execution_count": 25,
   "id": "2b0cd927",
   "metadata": {},
   "outputs": [
    {
     "name": "stdout",
     "output_type": "stream",
     "text": [
      "Input your name pleaseNalini\n",
      "Your Name is: Nalini\n",
      "Enter your birth of year 1987\n",
      "Your birth year is: 1987 Mr. Nalini\n"
     ]
    }
   ],
   "source": [
    "name = input ('Input your name please')\n",
    "print ('Your Name is:',name)\n",
    "\n",
    "year = input ('Enter your birth of year ')\n",
    "print ('Your birth year is:',year,'Mr.',name)"
   ]
  },
  {
   "cell_type": "code",
   "execution_count": 26,
   "id": "22c30f9f",
   "metadata": {},
   "outputs": [
    {
     "name": "stdout",
     "output_type": "stream",
     "text": [
      "Enter Math Marks85\n",
      "Enter Science Marks56\n",
      "Your Total Marks Is:= 141\n"
     ]
    }
   ],
   "source": [
    "math =int(input('Enter Math Marks'))\n",
    "science=int(input('Enter Science Marks'))\n",
    "Total_Marks =math+science\n",
    "print ('Your Total Marks Is:=',Total_Marks)"
   ]
  },
  {
   "cell_type": "code",
   "execution_count": 27,
   "id": "e6a9f8b0",
   "metadata": {},
   "outputs": [
    {
     "name": "stdout",
     "output_type": "stream",
     "text": [
      "Enter Your Name=Nalini\n",
      "Your Name Is= Nalini\n"
     ]
    }
   ],
   "source": [
    "name= input('Enter Your Name=')\n",
    "\n",
    "if name.isalpha():\n",
    "    print ('Your Name Is=',name)\n",
    "else:\n",
    "    print('Enter only alpha charactors')\n",
    "    "
   ]
  },
  {
   "cell_type": "code",
   "execution_count": 28,
   "id": "958c6b1c",
   "metadata": {},
   "outputs": [
    {
     "name": "stdout",
     "output_type": "stream",
     "text": [
      "Enter Your Name Nalini\n",
      "Your Name is= Nalini\n"
     ]
    }
   ],
   "source": [
    "name=input ('Enter Your Name ')\n",
    "\n",
    "if name.isalpha():\n",
    "    print ('Your Name is=', name)\n",
    "else:\n",
    "    print('Enter only alpha characotors')\n",
    "    "
   ]
  },
  {
   "cell_type": "code",
   "execution_count": 29,
   "id": "f89cc645",
   "metadata": {},
   "outputs": [
    {
     "name": "stdout",
     "output_type": "stream",
     "text": [
      "Enter Your Math Marks =65\n",
      "Your Math Marks Is= 65\n",
      "Enter science Marks46\n",
      "Your science Marks Is= 46\n",
      "Your Total Marks is= 111\n"
     ]
    }
   ],
   "source": [
    "math =int(input('Enter Your Math Marks ='))\n",
    "\n",
    "if math >100:\n",
    "    print(\"You can\\'t enter more than maximum\" )\n",
    "else:\n",
    "    print ('Your Math Marks Is=',math)\n",
    "science = int(input('Enter science Marks'))\n",
    "\n",
    "if science>100:\n",
    "    print ('you can enter only less than 100')\n",
    "else:\n",
    "    print('Your science Marks Is=', science)\n",
    "Total_Marks=math+science\n",
    "print ('Your Total Marks is=',Total_Marks)"
   ]
  },
  {
   "cell_type": "code",
   "execution_count": 30,
   "id": "76dc7e57",
   "metadata": {},
   "outputs": [],
   "source": [
    "math=78\n",
    "\n",
    "subject='Data Ssience'\n",
    "\n",
    "science=85"
   ]
  },
  {
   "cell_type": "code",
   "execution_count": 31,
   "id": "a16b4d84",
   "metadata": {},
   "outputs": [
    {
     "name": "stdout",
     "output_type": "stream",
     "text": [
      "Your toatal marks= 163\n"
     ]
    }
   ],
   "source": [
    "try:\n",
    "    total_marks= math+science\n",
    "except:\n",
    "    print('You Are adding str to integer, you should enter both match data')\n",
    "else:\n",
    "    print ( 'Your toatal marks=',total_marks)"
   ]
  },
  {
   "cell_type": "code",
   "execution_count": 32,
   "id": "d8c5eda5",
   "metadata": {},
   "outputs": [
    {
     "name": "stdout",
     "output_type": "stream",
     "text": [
      "Your total Marks is= 163\n"
     ]
    }
   ],
   "source": [
    "try:\n",
    "    total_marks=math+science\n",
    "except:\n",
    "    print('Enter only integer')\n",
    "else:\n",
    "    print('Your total Marks is=',total_marks)"
   ]
  },
  {
   "cell_type": "code",
   "execution_count": 8,
   "id": "b0b85aa6",
   "metadata": {},
   "outputs": [
    {
     "name": "stdout",
     "output_type": "stream",
     "text": [
      "Enter your math marks \n",
      "Enter your science \n",
      "Enter english marks \n",
      " Please provide math marks.\n",
      "Please provide science marks. \n",
      "Please provide english marks. \n"
     ]
    }
   ],
   "source": [
    "try:\n",
    "    math_marks=input('Enter your math marks')\n",
    "    science= input('Enter your science')\n",
    "    english=input ('Enter english marks')\n",
    "    \n",
    "    if math_marks==' ':\n",
    "        raise Exception()\n",
    "    elif science == ' ':\n",
    "        raise Exception()\n",
    "    elif english == ' ':\n",
    "        raise Exception()\n",
    "    else:\n",
    "        pass\n",
    "except:\n",
    "    if math_marks ==' ':\n",
    "        print (' Please provide math marks.')\n",
    "    if science == ' ':\n",
    "        print ('Please provide science marks. ')\n",
    "    if english == ' ':\n",
    "        print('Please provide english marks. ')\n",
    "else:\n",
    "    print ('Thank you for providing all details')\n",
    "    "
   ]
  },
  {
   "cell_type": "code",
   "execution_count": 23,
   "id": "5df22dac",
   "metadata": {},
   "outputs": [
    {
     "name": "stdout",
     "output_type": "stream",
     "text": [
      "Enter your math marks   \n",
      "Enter your science   \n",
      "Enter english marks   \n",
      "\n",
      " Please provide correct details \n",
      "\n",
      "Please provide correct details \n",
      "\n",
      "Please provide correct details\n"
     ]
    }
   ],
   "source": [
    "try:\n",
    "    math_marks=input('Enter your math marks  ')\n",
    "    science= input('Enter your science  ')\n",
    "    english=input ('Enter english marks  ')\n",
    "    \n",
    "    if math_marks==' ':\n",
    "        raise Exception()\n",
    "    elif science == ' ':\n",
    "        raise Exception()\n",
    "    elif english == ' ':\n",
    "        raise exception()\n",
    "    else:\n",
    "        pass\n",
    "except:\n",
    "    if math_marks ==' ':\n",
    "        print ('\\n Please provide correct details \\n')\n",
    "    if science == ' ':\n",
    "        print ('Please provide correct details \\n')\n",
    "    if english == ' ':\n",
    "        print('Please provide correct details')\n",
    "        \n",
    "else:\n",
    "    print ('Thank you for providing all details')\n",
    "    "
   ]
  },
  {
   "cell_type": "code",
   "execution_count": 22,
   "id": "d4e16cd4",
   "metadata": {},
   "outputs": [
    {
     "name": "stdout",
     "output_type": "stream",
     "text": [
      "Enter your basic   \n",
      "Enter your DA   \n",
      "Enter your HRA \n",
      " \n",
      " Please enter correct input \n",
      "\n",
      "Please enter DA \n",
      "\n",
      "Please enter HRA amount\n",
      "\n",
      " Thank you for providing the details\n"
     ]
    }
   ],
   "source": [
    "try:\n",
    "    \n",
    "    basic = input('Enter your basic  ')\n",
    "    DA= input('Enter your DA  ')\n",
    "    HRA=input('Enter your HRA')\n",
    "    \n",
    "    if basic ==' ':\n",
    "        raise exception\n",
    "    elif DA== ' ':\n",
    "        raise exception\n",
    "    elif HRA == ' ':\n",
    "        raise exception\n",
    "    else:\n",
    "        pass\n",
    "except:\n",
    "    \n",
    "    if basic == ' ':\n",
    "        print (' \\n Please enter correct input \\n')\n",
    "    if DA == ' ':\n",
    "        print ('Please enter DA \\n')\n",
    "    if HRA == ' ':\n",
    "        print ('Please enter HRA amount')\n",
    "        \n",
    "finally:\n",
    "    print ('\\n Thank you for providing the details')"
   ]
  },
  {
   "cell_type": "code",
   "execution_count": 27,
   "id": "404b6690",
   "metadata": {},
   "outputs": [],
   "source": [
    "def roll_number():\n",
    "    \n",
    "    \n",
    "    try:\n",
    "        val= int(input('Enter your roll no. '))\n",
    "    except:\n",
    "        print ('Roll no. must be start with integer')\n",
    "    print(val)"
   ]
  },
  {
   "cell_type": "raw",
   "id": "c6d66416",
   "metadata": {},
   "source": []
  },
  {
   "cell_type": "code",
   "execution_count": 28,
   "id": "9c79b396",
   "metadata": {},
   "outputs": [
    {
     "name": "stdout",
     "output_type": "stream",
     "text": [
      "Enter your roll no. 125\n",
      "125\n"
     ]
    }
   ],
   "source": [
    "roll_number()"
   ]
  },
  {
   "cell_type": "code",
   "execution_count": 1,
   "id": "db09194e",
   "metadata": {},
   "outputs": [],
   "source": [
    "def roll_number():\n",
    "        try:\n",
    "            val= int(input('Your roll no.  '))\n",
    "        except:\n",
    "            print('Enter only digits')\n",
    "            \n",
    "        print (val)\n",
    "             \n",
    "        \n",
    "        "
   ]
  },
  {
   "cell_type": "code",
   "execution_count": 4,
   "id": "ea2cf333",
   "metadata": {},
   "outputs": [
    {
     "name": "stdout",
     "output_type": "stream",
     "text": [
      "Your roll no.  1254\n",
      "1254\n"
     ]
    }
   ],
   "source": [
    "roll_number()"
   ]
  },
  {
   "cell_type": "code",
   "execution_count": 5,
   "id": "8d061827",
   "metadata": {},
   "outputs": [],
   "source": [
    "def roll_number():\n",
    "    \n",
    "    while True:\n",
    "        try:\n",
    "            val= int(input(' Your roll number is  '))\n",
    "        except :\n",
    "            print('Enter only digits')\n",
    "            continue\n",
    "        print (val)\n",
    "        break\n",
    "    \n",
    "    \n",
    "    \n",
    "    "
   ]
  },
  {
   "cell_type": "code",
   "execution_count": 6,
   "id": "4242dd9b",
   "metadata": {},
   "outputs": [
    {
     "name": "stdout",
     "output_type": "stream",
     "text": [
      " Your roll number is  fsdfz\n",
      "Enter only digits\n",
      " Your roll number is  fgbdxgb\n",
      "Enter only digits\n",
      " Your roll number is  bfnfv \n",
      "Enter only digits\n",
      " Your roll number is  12345\n",
      "12345\n"
     ]
    }
   ],
   "source": [
    "roll_number()"
   ]
  },
  {
   "cell_type": "code",
   "execution_count": 7,
   "id": "c9c80d5f",
   "metadata": {},
   "outputs": [],
   "source": [
    "def mobile_number():\n",
    "    while True:\n",
    "        try:\n",
    "            number= int(input('your mobile number  '))\n",
    "        except:\n",
    "            print ('Enter only digit  ')\n",
    "            continue\n",
    "        else:\n",
    "            if len(str(number))!=10:\n",
    "                print ('Mobile number must be 10 digit')\n",
    "                continue\n",
    "            print ('Thank you')\n",
    "            break"
   ]
  },
  {
   "cell_type": "code",
   "execution_count": 8,
   "id": "84b4c49d",
   "metadata": {},
   "outputs": [
    {
     "name": "stdout",
     "output_type": "stream",
     "text": [
      "your mobile number  jskjdhhzxbmn\n",
      "Enter only digit  \n",
      "your mobile number  jeshod\n",
      "Enter only digit  \n",
      "your mobile number  1235\n",
      "Mobile number must be 10 digit\n",
      "your mobile number  12385656\n",
      "Mobile number must be 10 digit\n",
      "your mobile number  9764826134\n",
      "Thank you\n"
     ]
    }
   ],
   "source": [
    "mobile_number()"
   ]
  },
  {
   "cell_type": "code",
   "execution_count": 11,
   "id": "c15a2494",
   "metadata": {},
   "outputs": [],
   "source": [
    "def employee_salary():\n",
    "    \n",
    "    while True:\n",
    "        try:\n",
    "            salary= int(input('your salary is  '))\n",
    "        except:\n",
    "            print('Please provide correct input ')\n",
    "            continue\n",
    "        else:\n",
    "            if len(str(salary))!=5:\n",
    "                print ('It must be in 5 digit')\n",
    "                continue\n",
    "            print ('Your new salaryis >>= ',salary+(salary*.30))\n",
    "            break"
   ]
  },
  {
   "cell_type": "code",
   "execution_count": 12,
   "id": "4cfebfb8",
   "metadata": {},
   "outputs": [
    {
     "name": "stdout",
     "output_type": "stream",
     "text": [
      "your salary is  2588+\n",
      "Please provide correct input \n",
      "your salary is  njfegufa\n",
      "Please provide correct input \n",
      "your salary is  njfhuawyjs\n",
      "Please provide correct input \n",
      "your salary is  10000\n",
      "Your new salaryis >>=  13000.0\n"
     ]
    }
   ],
   "source": [
    "employee_salary()"
   ]
  },
  {
   "cell_type": "code",
   "execution_count": 51,
   "id": "4a243c53",
   "metadata": {},
   "outputs": [],
   "source": [
    "class Employee:\n",
    "    \n",
    "    def __init__(self,name,surname,year_of_birth):\n",
    "        self.name= name\n",
    "        self.surname= surname\n",
    "        self.year_of_birth= year_of_birth\n",
    "        \n",
    "    def emp_personal_information(self):\n",
    "        print('Name =',self.name, '\\n Surname =',self.surname, '\\n Year of Birth =',self.year_of_birth)"
   ]
  },
  {
   "cell_type": "code",
   "execution_count": 52,
   "id": "9e04b19b",
   "metadata": {},
   "outputs": [],
   "source": [
    "emp =Employee('Nalini','Sethana', 1987)"
   ]
  },
  {
   "cell_type": "code",
   "execution_count": 53,
   "id": "19e5e725",
   "metadata": {},
   "outputs": [
    {
     "name": "stdout",
     "output_type": "stream",
     "text": [
      "Name = Nalini \n",
      " Surname = Sethana \n",
      " Year of Birth = 1987\n"
     ]
    }
   ],
   "source": [
    "emp.emp_personal_information()"
   ]
  },
  {
   "cell_type": "code",
   "execution_count": 65,
   "id": "689e898f",
   "metadata": {},
   "outputs": [],
   "source": [
    "class Employee:\n",
    "    \n",
    "    def __init__(self,name,surname,year_of_birth):\n",
    "        self.name= name\n",
    "        self.surname= surname\n",
    "        self.year_of_birth= year_of_birth\n",
    "        \n",
    "    def emp_personal_information(self):\n",
    "        print('Name ='+ self.name, '\\n Surname =',self.surname, '\\n Year of Birth =',self.year_of_birth)"
   ]
  },
  {
   "cell_type": "code",
   "execution_count": 66,
   "id": "5d6d0d3d",
   "metadata": {},
   "outputs": [],
   "source": [
    "emp =Employee('Nalini','Sethana', 1987)"
   ]
  },
  {
   "cell_type": "code",
   "execution_count": 67,
   "id": "d6672f3f",
   "metadata": {},
   "outputs": [
    {
     "name": "stdout",
     "output_type": "stream",
     "text": [
      "Name =Nalini \n",
      " Surname = Sethana \n",
      " Year of Birth = 1987\n"
     ]
    }
   ],
   "source": [
    "emp.emp_personal_information()"
   ]
  },
  {
   "cell_type": "code",
   "execution_count": 110,
   "id": "069109d2",
   "metadata": {},
   "outputs": [],
   "source": [
    "class Student:\n",
    "    def __init__(self,name,mob_no,date_of_birth,location_from,marks):\n",
    "        self.name=name\n",
    "        self.mob_no=mob_no\n",
    "        self.date_of_birth=datetime.strptime(date_of_birth,'%b %d %Y')\n",
    "        self.location_from=location_from\n",
    "        self.marks=marks\n",
    "        \n",
    "    def stu_personal_details(self):\n",
    "        print(' Name =' + self.name,'\\n date_of_birth=',self.date_of_birth,'\\n Location=',self.location_from)\n",
    "        \n",
    "    def stu_marks(self):\n",
    "        if self.marks <500:\n",
    "            print('First class')\n",
    "        elif self.marks>400:\n",
    "            print('Second Class')\n",
    "        else:\n",
    "            print('Pass')"
   ]
  },
  {
   "cell_type": "code",
   "execution_count": 111,
   "id": "b05539f2",
   "metadata": {},
   "outputs": [],
   "source": [
    "ramesh = Student('Shrianshi',9731545268,'Mar 07 2020','Pune',450)"
   ]
  },
  {
   "cell_type": "code",
   "execution_count": 112,
   "id": "0cab561f",
   "metadata": {},
   "outputs": [
    {
     "name": "stdout",
     "output_type": "stream",
     "text": [
      "First class\n"
     ]
    }
   ],
   "source": [
    "ramesh.stu_marks()"
   ]
  },
  {
   "cell_type": "code",
   "execution_count": 113,
   "id": "d9f7a269",
   "metadata": {},
   "outputs": [
    {
     "name": "stdout",
     "output_type": "stream",
     "text": [
      " Name =Shrianshi \n",
      " date_of_birth= 2020-03-07 00:00:00 \n",
      " Location= Pune\n"
     ]
    }
   ],
   "source": [
    "ramesh.stu_personal_details()"
   ]
  },
  {
   "cell_type": "code",
   "execution_count": 118,
   "id": "90bbf3c5",
   "metadata": {},
   "outputs": [],
   "source": [
    "class Employee:\n",
    "    def __init__(self,name,date_joining,emp_id,mob_no,date_of_birth,location,grade,gender):\n",
    "        self.name=name\n",
    "        self.date_joining=datetime.strptime(date_joining,'%b %d %Y')\n",
    "        self.emp_id=emp_id\n",
    "        self.mob_no=mob_no\n",
    "        self.date_of_birth=datetime.strptime(date_of_birth,'%b %d %Y')\n",
    "        self.location=location\n",
    "        self.grade=grade\n",
    "        self.gender=gender\n",
    "        \n",
    "    def emp_personal_details(self):\n",
    "        print (' Name= ',self.name,'\\n Gender =',self.gender,'\\n Date of Birth =',self.date_of_birth,'\\n Location =',self.location,)"
   ]
  },
  {
   "cell_type": "code",
   "execution_count": 119,
   "id": "ecf6450f",
   "metadata": {},
   "outputs": [],
   "source": [
    "Suresh = Employee('Suresh','Feb 26 1996','CP29426',9764826123,'Nov 17 1984','Pune','M2B','Male')"
   ]
  },
  {
   "cell_type": "code",
   "execution_count": 120,
   "id": "872e1aa2",
   "metadata": {},
   "outputs": [
    {
     "name": "stdout",
     "output_type": "stream",
     "text": [
      " Name=  Suresh \n",
      " Gender = Male \n",
      " Date of Birth = 1984-11-17 00:00:00 \n",
      " Location = Pune\n"
     ]
    }
   ],
   "source": [
    "Suresh.emp_personal_details()"
   ]
  },
  {
   "cell_type": "code",
   "execution_count": 5,
   "id": "9e8ec202",
   "metadata": {},
   "outputs": [],
   "source": [
    "class Student:\n",
    "    def __init__(self,name,date_of_birth,father_name,mobile_no,address):\n",
    "        self.name=name\n",
    "        self.date_of_birth=datetime.strptime(date_of_birth,'%b %d %Y')\n",
    "        self.father_name=father_name\n",
    "        self.mobile_no=mobile_no\n",
    "        self.address=address\n",
    "        \n",
    "    def stu_details(self):\n",
    "        print (' Name ='+self.name,\"\\n Father Name =\",self.father_name,'\\n Mobile No. =',self.mobile_no)"
   ]
  },
  {
   "cell_type": "code",
   "execution_count": 8,
   "id": "c44eb8ca",
   "metadata": {},
   "outputs": [],
   "source": [
    "Ram=Student('Ram',\"Jan 01 1989\",'Radheshyam',7765620088,'Patna')"
   ]
  },
  {
   "cell_type": "code",
   "execution_count": 7,
   "id": "d277e71b",
   "metadata": {},
   "outputs": [],
   "source": [
    "from datetime import datetime"
   ]
  },
  {
   "cell_type": "code",
   "execution_count": 9,
   "id": "625d12de",
   "metadata": {},
   "outputs": [
    {
     "name": "stdout",
     "output_type": "stream",
     "text": [
      " Name =Ram \n",
      " Father Name = Radheshyam \n",
      " Mobile No. = 7765620088\n"
     ]
    }
   ],
   "source": [
    "Ram.stu_details()"
   ]
  },
  {
   "cell_type": "code",
   "execution_count": 13,
   "id": "19e6dd9c",
   "metadata": {},
   "outputs": [],
   "source": [
    "class Employee:\n",
    "    def __init__(self,name,date_of_birth,mob_no,date_of_joining,address,year_of_experiance,salary):\n",
    "        self.name=name\n",
    "        self.date_of_birth=datetime.strptime(date_of_birth,'%b %d %Y')\n",
    "        self.mob_no=mob_no\n",
    "        self.date_of_joining=datetime.strptime(date_of_joining,'%b %d %Y')\n",
    "        self.address=address\n",
    "        self.year_of_experiance=year_of_experiance\n",
    "        self.salary=salary\n",
    "        \n",
    "    def emp_details(self):\n",
    "        print (' Name ='+self.name,'\\n DOB =',self.date_of_birth, '\\n Year of Experiance =',self.year_of_experiance,'\\n DOJ =',self.date_of_joining)\n",
    "    \n",
    "    def emp_salary(self):\n",
    "        if self.salary<25000:\n",
    "            print ('New Salary Is=',self.salary+(self.salary*0.30))\n",
    "        else:\n",
    "            print ('New Salary Is =',self.salary+(self.salary*.20))"
   ]
  },
  {
   "cell_type": "code",
   "execution_count": 17,
   "id": "ddc5f7b7",
   "metadata": {},
   "outputs": [],
   "source": [
    "Ramesh=Employee('Ramesh','Nov 17 1984',9764826832,'Feb 26 2018','Pune','12 Years',24000)"
   ]
  },
  {
   "cell_type": "code",
   "execution_count": 18,
   "id": "51baa7e4",
   "metadata": {},
   "outputs": [
    {
     "name": "stdout",
     "output_type": "stream",
     "text": [
      "New Salary Is= 31200.0\n"
     ]
    }
   ],
   "source": [
    "Ramesh.emp_salary()"
   ]
  },
  {
   "cell_type": "code",
   "execution_count": 19,
   "id": "12ec2e34",
   "metadata": {},
   "outputs": [
    {
     "name": "stdout",
     "output_type": "stream",
     "text": [
      " Name =Ramesh \n",
      " DOB = 1984-11-17 00:00:00 \n",
      " Year of Experiance = 12 Years \n",
      " DOJ = 2018-02-26 00:00:00\n"
     ]
    }
   ],
   "source": [
    "Ramesh.emp_details()"
   ]
  },
  {
   "cell_type": "code",
   "execution_count": 20,
   "id": "f7b3176e",
   "metadata": {},
   "outputs": [],
   "source": [
    "Nalini=Employee('Nalini','Mar 01 1987',9372711837,'Jul 06 2019','Pune','13 years',37000)"
   ]
  },
  {
   "cell_type": "code",
   "execution_count": 21,
   "id": "db31b43c",
   "metadata": {},
   "outputs": [
    {
     "name": "stdout",
     "output_type": "stream",
     "text": [
      " Name =Nalini \n",
      " DOB = 1987-03-01 00:00:00 \n",
      " Year of Experiance = 13 years \n",
      " DOJ = 2019-07-06 00:00:00\n"
     ]
    }
   ],
   "source": [
    "Nalini.emp_details()"
   ]
  },
  {
   "cell_type": "code",
   "execution_count": 22,
   "id": "06a957f0",
   "metadata": {},
   "outputs": [
    {
     "name": "stdout",
     "output_type": "stream",
     "text": [
      "New Salary Is = 44400.0\n"
     ]
    }
   ],
   "source": [
    "Nalini.emp_salary()"
   ]
  },
  {
   "cell_type": "code",
   "execution_count": 28,
   "id": "d6a4f6b0",
   "metadata": {},
   "outputs": [],
   "source": [
    "class Employee_id(Employee):\n",
    "    def __init__(self,employee_id,*args):\n",
    "        super(Employee_id,self).__init__(*args)\n",
    "        self.employee_id=employee_id\n",
    "    def employee_details(self):\n",
    "        print (' Employee Id =',self.employee_id,'\\n Name =',self.name)"
   ]
  },
  {
   "cell_type": "code",
   "execution_count": 29,
   "id": "0ffdea3a",
   "metadata": {},
   "outputs": [],
   "source": [
    "Employee_details=Employee_id('CP29426','Nalini','Mar 01 1987',9372711837,'Jul 06 2019','Pune','13 years',37000)"
   ]
  },
  {
   "cell_type": "code",
   "execution_count": 30,
   "id": "974ccf44",
   "metadata": {},
   "outputs": [
    {
     "name": "stdout",
     "output_type": "stream",
     "text": [
      " Employee Id = CP29426 \n",
      " Name = Nalini\n"
     ]
    }
   ],
   "source": [
    "Employee_details.employee_details()"
   ]
  },
  {
   "cell_type": "code",
   "execution_count": 39,
   "id": "82815008",
   "metadata": {},
   "outputs": [],
   "source": [
    "class Father_name(Employee):\n",
    "    def __init__(self,father_name,*args):\n",
    "        super(Father_name,self).__init__(*args)\n",
    "        self.father_name=father_name\n",
    "    def emp_details(self):\n",
    "        print(' Name ='+self.name,'\\n Father Name=',self.father_name,'\\n DOB =',self.date_of_birth)"
   ]
  },
  {
   "cell_type": "code",
   "execution_count": 40,
   "id": "92a9bd8c",
   "metadata": {},
   "outputs": [],
   "source": [
    "Suresh=Father_name('Sitaram','Nalini','Mar 01 1987',9372711837,'Jul 06 2019','Pune','13 years',37000)"
   ]
  },
  {
   "cell_type": "code",
   "execution_count": 41,
   "id": "dff1479d",
   "metadata": {},
   "outputs": [
    {
     "name": "stdout",
     "output_type": "stream",
     "text": [
      " Name =Nalini \n",
      " Father Name= Sitaram \n",
      " DOB = 1987-03-01 00:00:00\n"
     ]
    }
   ],
   "source": [
    "Suresh.emp_details()"
   ]
  },
  {
   "cell_type": "code",
   "execution_count": 42,
   "id": "f07004e9",
   "metadata": {},
   "outputs": [],
   "source": [
    "# Encapsulation"
   ]
  },
  {
   "cell_type": "code",
   "execution_count": 57,
   "id": "fe12ec76",
   "metadata": {},
   "outputs": [
    {
     "ename": "TypeError",
     "evalue": "__str__ returned non-string (type tuple)",
     "output_type": "error",
     "traceback": [
      "\u001b[1;31m---------------------------------------------------------------------------\u001b[0m",
      "\u001b[1;31mTypeError\u001b[0m                                 Traceback (most recent call last)",
      "\u001b[1;32m~\\AppData\\Local\\Temp/ipykernel_9212/2698484260.py\u001b[0m in \u001b[0;36m<module>\u001b[1;34m\u001b[0m\n\u001b[0;32m     29\u001b[0m \u001b[0mb\u001b[0m\u001b[1;33m=\u001b[0m\u001b[0mBody\u001b[0m\u001b[1;33m(\u001b[0m\u001b[1;34m'SUV'\u001b[0m\u001b[1;33m)\u001b[0m\u001b[1;33m\u001b[0m\u001b[1;33m\u001b[0m\u001b[0m\n\u001b[0;32m     30\u001b[0m \u001b[0mc\u001b[0m\u001b[1;33m=\u001b[0m\u001b[0mCar\u001b[0m\u001b[1;33m(\u001b[0m\u001b[0mt\u001b[0m\u001b[1;33m,\u001b[0m\u001b[0me\u001b[0m\u001b[1;33m,\u001b[0m\u001b[0mb\u001b[0m\u001b[1;33m)\u001b[0m\u001b[1;33m\u001b[0m\u001b[1;33m\u001b[0m\u001b[0m\n\u001b[1;32m---> 31\u001b[1;33m \u001b[0mprint\u001b[0m\u001b[1;33m(\u001b[0m\u001b[0mc\u001b[0m\u001b[1;33m)\u001b[0m\u001b[1;33m\u001b[0m\u001b[1;33m\u001b[0m\u001b[0m\n\u001b[0m\u001b[0;32m     32\u001b[0m \u001b[1;33m\u001b[0m\u001b[0m\n\u001b[0;32m     33\u001b[0m \u001b[1;33m\u001b[0m\u001b[0m\n",
      "\u001b[1;32m~\\AppData\\Local\\Temp/ipykernel_9212/2698484260.py\u001b[0m in \u001b[0;36m__str__\u001b[1;34m(self)\u001b[0m\n\u001b[0;32m     23\u001b[0m         \u001b[0mself\u001b[0m\u001b[1;33m.\u001b[0m\u001b[0mbody\u001b[0m\u001b[1;33m=\u001b[0m\u001b[0mbody\u001b[0m\u001b[1;33m\u001b[0m\u001b[1;33m\u001b[0m\u001b[0m\n\u001b[0;32m     24\u001b[0m     \u001b[1;32mdef\u001b[0m \u001b[0m__str__\u001b[0m\u001b[1;33m(\u001b[0m\u001b[0mself\u001b[0m\u001b[1;33m)\u001b[0m\u001b[1;33m:\u001b[0m\u001b[1;33m\u001b[0m\u001b[1;33m\u001b[0m\u001b[0m\n\u001b[1;32m---> 25\u001b[1;33m         \u001b[1;32mreturn\u001b[0m  \u001b[0mstr\u001b[0m\u001b[1;33m(\u001b[0m\u001b[0mself\u001b[0m\u001b[1;33m.\u001b[0m\u001b[0mtyres\u001b[0m\u001b[1;33m)\u001b[0m\u001b[1;33m+\u001b[0m\u001b[1;34m\"\\n\"\u001b[0m\u001b[1;33m+\u001b[0m \u001b[0mstr\u001b[0m\u001b[1;33m(\u001b[0m\u001b[0mself\u001b[0m\u001b[1;33m.\u001b[0m\u001b[0mengine\u001b[0m\u001b[1;33m)\u001b[0m\u001b[1;33m+\u001b[0m\u001b[1;34m\"\\n\"\u001b[0m\u001b[1;33m+\u001b[0m \u001b[0mstr\u001b[0m\u001b[1;33m(\u001b[0m\u001b[0mself\u001b[0m\u001b[1;33m.\u001b[0m\u001b[0mbody\u001b[0m\u001b[1;33m)\u001b[0m\u001b[1;33m\u001b[0m\u001b[1;33m\u001b[0m\u001b[0m\n\u001b[0m\u001b[0;32m     26\u001b[0m \u001b[1;33m\u001b[0m\u001b[0m\n\u001b[0;32m     27\u001b[0m \u001b[0mt\u001b[0m\u001b[1;33m=\u001b[0m\u001b[0mTyres\u001b[0m\u001b[1;33m(\u001b[0m\u001b[1;34m'MRF'\u001b[0m\u001b[1;33m,\u001b[0m\u001b[1;32mTrue\u001b[0m\u001b[1;33m,\u001b[0m\u001b[1;36m32\u001b[0m\u001b[1;33m)\u001b[0m\u001b[1;33m\u001b[0m\u001b[1;33m\u001b[0m\u001b[0m\n",
      "\u001b[1;31mTypeError\u001b[0m: __str__ returned non-string (type tuple)"
     ]
    }
   ],
   "source": [
    "class Tyres:\n",
    "    def __init__(self,branch,belted_bais,opt_pressure):\n",
    "        self.branch=branch\n",
    "        self.belted_bais=belted_bais\n",
    "        self.opt_pressure=opt_pressure\n",
    "    def __str__(self):\n",
    "        return(\"Tyres: \\n \\tBranch=\",self.branch,\"\\n \\tBelted Bais=\",str(self.belted_bais), \"Optimum Pressure =\",str(self.opt_pressure))\n",
    "class Engine:\n",
    "    def __init__(self,fuel_type,noise_level):\n",
    "        self.fuel_type=fuel_type\n",
    "        self.noise_level=noise_level\n",
    "    def __str__(self):\n",
    "        return(\"Engine: \\n \\tFUEL Type=\",self.fuel_type, \"\\n \\tNoise Level =\", str(self.noise_level))\n",
    "class Body:\n",
    "    def __init__(self,size):\n",
    "        self.size=size\n",
    "    def __str__(self):\n",
    "        return (\"Body: \\n \\tSize =\",self.size)\n",
    "class Car:\n",
    "    def __init__(self,tyres,engine,body):\n",
    "        self.tyres=tyres\n",
    "        self.engine=engine\n",
    "        self.body=body\n",
    "    def __str__(self):\n",
    "        return  str(self.tyres)+\"\\n\"+ str(self.engine)+\"\\n\"+ str(self.body)\n",
    "    \n",
    "t=Tyres('MRF',True,32)\n",
    "e=Engine('Petrol',2.3)\n",
    "b=Body('SUV')\n",
    "c=Car(t,e,b)\n",
    "print(c)\n",
    "    \n",
    "    "
   ]
  },
  {
   "cell_type": "code",
   "execution_count": null,
   "id": "7983d396",
   "metadata": {},
   "outputs": [],
   "source": []
  }
 ],
 "metadata": {
  "kernelspec": {
   "display_name": "Python 3 (ipykernel)",
   "language": "python",
   "name": "python3"
  },
  "language_info": {
   "codemirror_mode": {
    "name": "ipython",
    "version": 3
   },
   "file_extension": ".py",
   "mimetype": "text/x-python",
   "name": "python",
   "nbconvert_exporter": "python",
   "pygments_lexer": "ipython3",
   "version": "3.9.7"
  }
 },
 "nbformat": 4,
 "nbformat_minor": 5
}
